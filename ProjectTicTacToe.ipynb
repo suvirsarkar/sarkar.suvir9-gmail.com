{
  "nbformat": 4,
  "nbformat_minor": 0,
  "metadata": {
    "colab": {
      "name": "ProjectTicTacToe.ipynb",
      "provenance": [],
      "collapsed_sections": [],
      "authorship_tag": "ABX9TyM/BeERSYgXmSiv5RvcX3sU",
      "include_colab_link": true
    },
    "kernelspec": {
      "name": "python3",
      "display_name": "Python 3"
    },
    "language_info": {
      "name": "python"
    }
  },
  "cells": [
    {
      "cell_type": "markdown",
      "metadata": {
        "id": "view-in-github",
        "colab_type": "text"
      },
      "source": [
        "<a href=\"https://colab.research.google.com/github/suvirsarkar/sarkar.suvir9-gmail.com/blob/master/ProjectTicTacToe.ipynb\" target=\"_parent\"><img src=\"https://colab.research.google.com/assets/colab-badge.svg\" alt=\"Open In Colab\"/></a>"
      ]
    },
    {
      "cell_type": "code",
      "metadata": {
        "id": "8a0PWOPZlUnV"
      },
      "source": [
        "#SuvirSarkar \n",
        "import numpy as nu\n",
        "board=nu.array([['_','_','_'],['_','_','_'],['_','_','_']])\n",
        "p1s='X'\n",
        "p2s='0'"
      ],
      "execution_count": null,
      "outputs": []
    },
    {
      "cell_type": "code",
      "metadata": {
        "id": "IMTiZPw6u2Ve"
      },
      "source": [
        "def check_rows(symbol):\n",
        "  for r in range(3):\n",
        "    count=0\n",
        "    for c in range(3):\n",
        "      if board[r][c]==symbol:\n",
        "        count+=1\n",
        "    if count==3:\n",
        "      print(symbol,\"Congrats You Won\")\n",
        "      return True\n",
        "  return False\n",
        "\n",
        "\n",
        "def check_columns(symbol):\n",
        "  for r in range(3):\n",
        "    count=0\n",
        "    for c in range(3):\n",
        "      if board[c][r]==symbol:\n",
        "        count+=1\n",
        "    if count==3:\n",
        "      print(symbol,\"Congrats You Won\")\n",
        "      return True\n",
        "  return False\n",
        "\n",
        "def check_diagonals(symbol):\n",
        "  count=0\n",
        "  for i in range(3):\n",
        "    if board[i][i]==symbol:\n",
        "      count+=1\n",
        "  if count==3:\n",
        "    print(symbol,\"Congrats You Won\")\n",
        "    return True\n",
        "  if board[0][2]==symbol and board[1][1]==symbol and board[2][0]==symbol:\n",
        "    print(symbol,\"Congrats You Won\")\n",
        "    return True\n",
        "  return False\n"
      ],
      "execution_count": null,
      "outputs": []
    },
    {
      "cell_type": "code",
      "metadata": {
        "id": "8Cl-gVGIuXTr"
      },
      "source": [
        "def Won(symbol):\n",
        "  return check_rows(symbol) or check_diagonals(symbol) or check_columns(symbol)"
      ],
      "execution_count": null,
      "outputs": []
    },
    {
      "cell_type": "code",
      "metadata": {
        "id": "lXO90VBtnlz-"
      },
      "source": [
        "def place(symbol):\n",
        "  while(1):\n",
        "    print(board)\n",
        "    row=int(input(\"Enter row: 1 or 2 or 3\"))\n",
        "    column=int(input(\"Enter column: 1 or 2 or 3\"))\n",
        "    if row<4 or column<4 or row>0 or column>0:\n",
        "      break\n",
        "    elif board[row-1][column-1]!=\"_\":\n",
        "      break\n",
        "    else:\n",
        "      print(\"Invalid Input.please Enter again in Range\")\n",
        "    \n",
        "  board[row-1][column-1]=symbol"
      ],
      "execution_count": null,
      "outputs": []
    },
    {
      "cell_type": "code",
      "metadata": {
        "id": "bzb1vqkNlsua"
      },
      "source": [
        "def play():\n",
        "  print(\"Welcome X and 0\")\n",
        "  for i in range(9):\n",
        "    if i%2==0:\n",
        "      print(\"X turn\")\n",
        "      place(p1s)\n",
        "      if Won(p1s):\n",
        "        break\n",
        "    else:\n",
        "      print('0 turn')\n",
        "      place(p2s)\n",
        "      if Won(p2s):\n",
        "        break\n",
        "  else:\n",
        "    print(\"Match Draw\")"
      ],
      "execution_count": null,
      "outputs": []
    },
    {
      "cell_type": "code",
      "metadata": {
        "colab": {
          "base_uri": "https://localhost:8080/"
        },
        "id": "eRuANSVel6XK",
        "outputId": "b869cf0a-58d1-4dae-a5a2-86b8f81c048f"
      },
      "source": [
        "play()"
      ],
      "execution_count": null,
      "outputs": [
        {
          "output_type": "stream",
          "name": "stdout",
          "text": [
            "Welcome X and 0\n",
            "X turn\n",
            "[['_' '_' '_']\n",
            " ['_' '_' '_']\n",
            " ['_' '_' '_']]\n",
            "Enter row: 1 or 2 or 31\n",
            "Enter column: 1 or 2 or 31\n",
            "0 turn\n",
            "[['X' '_' '_']\n",
            " ['_' '_' '_']\n",
            " ['_' '_' '_']]\n",
            "Enter row: 1 or 2 or 31\n",
            "Enter column: 1 or 2 or 32\n",
            "X turn\n",
            "[['X' '0' '_']\n",
            " ['_' '_' '_']\n",
            " ['_' '_' '_']]\n",
            "Enter row: 1 or 2 or 32\n",
            "Enter column: 1 or 2 or 32\n",
            "0 turn\n",
            "[['X' '0' '_']\n",
            " ['_' 'X' '_']\n",
            " ['_' '_' '_']]\n",
            "Enter row: 1 or 2 or 33\n",
            "Enter column: 1 or 2 or 31\n",
            "X turn\n",
            "[['X' '0' '_']\n",
            " ['_' 'X' '_']\n",
            " ['0' '_' '_']]\n",
            "Enter row: 1 or 2 or 33\n",
            "Enter column: 1 or 2 or 33\n",
            "X Congrats You Won\n"
          ]
        }
      ]
    },
    {
      "cell_type": "code",
      "metadata": {
        "colab": {
          "base_uri": "https://localhost:8080/"
        },
        "id": "zO-TnlC2nCrU",
        "outputId": "0f5fb635-2479-445e-f29e-d486f6385b5a"
      },
      "source": [
        "print(board)"
      ],
      "execution_count": null,
      "outputs": [
        {
          "output_type": "stream",
          "name": "stdout",
          "text": [
            "[['_' 'X' '_']\n",
            " ['X' '_' '_']\n",
            " ['_' '_' '_']]\n"
          ]
        }
      ]
    },
    {
      "cell_type": "code",
      "metadata": {
        "colab": {
          "base_uri": "https://localhost:8080/"
        },
        "id": "EJG4-SdAnRBd",
        "outputId": "3b2f3d8f-8e12-435a-af6b-ce40631f5de2"
      },
      "source": [
        "check_rows('X')"
      ],
      "execution_count": null,
      "outputs": [
        {
          "output_type": "stream",
          "name": "stdout",
          "text": [
            "X Congrats You Won\n"
          ]
        }
      ]
    },
    {
      "cell_type": "code",
      "metadata": {
        "colab": {
          "base_uri": "https://localhost:8080/"
        },
        "id": "xssfrvSqwsKR",
        "outputId": "65ef3443-43e6-42af-9408-b64dc32f362c"
      },
      "source": [
        "check_columns('X')"
      ],
      "execution_count": null,
      "outputs": [
        {
          "output_type": "stream",
          "name": "stdout",
          "text": [
            "X Congrats You Won\n"
          ]
        }
      ]
    },
    {
      "cell_type": "code",
      "metadata": {
        "id": "33TS8p-91JIW"
      },
      "source": [
        ""
      ],
      "execution_count": null,
      "outputs": []
    }
  ]
}